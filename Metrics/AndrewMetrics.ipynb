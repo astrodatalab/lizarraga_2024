{
 "cells": [
  {
   "cell_type": "code",
   "execution_count": 2,
   "id": "c6da919b-a730-48a3-8e4b-ff9339f42aa8",
   "metadata": {},
   "outputs": [
    {
     "name": "stderr",
     "output_type": "stream",
     "text": [
      "Processing images from HDF5:   0%|          | 0/40914 [00:00<?, ?it/s]WARNING: No meaningful fit was possible. [photutils.isophote.ellipse]\n",
      "Processing images from HDF5:   0%|          | 4/40914 [00:01<3:24:33,  3.33it/s]/home/jupyter-jacob/.local/lib/python3.10/site-packages/numpy/core/fromnumeric.py:3504: RuntimeWarning: Mean of empty slice.\n",
      "  return _methods._mean(a, axis=axis, dtype=dtype,\n",
      "/home/jupyter-jacob/.local/lib/python3.10/site-packages/numpy/core/_methods.py:129: RuntimeWarning: invalid value encountered in scalar divide\n",
      "  ret = ret.dtype.type(ret / rcount)\n",
      "/home/jupyter-jacob/.local/lib/python3.10/site-packages/numpy/core/_methods.py:206: RuntimeWarning: Degrees of freedom <= 0 for slice\n",
      "  ret = _var(a, axis=axis, dtype=dtype, out=out, ddof=ddof,\n",
      "/home/jupyter-jacob/.local/lib/python3.10/site-packages/numpy/core/_methods.py:163: RuntimeWarning: invalid value encountered in divide\n",
      "  arrmean = um.true_divide(arrmean, div, out=arrmean,\n",
      "/home/jupyter-jacob/.local/lib/python3.10/site-packages/numpy/core/_methods.py:198: RuntimeWarning: invalid value encountered in scalar divide\n",
      "  ret = ret.dtype.type(ret / rcount)\n",
      "Processing images from HDF5:   0%|          | 32/40914 [00:09<2:40:21,  4.25it/s]WARNING: Improper input: func input vector length N=5 must not exceed func output vector length M=4 [photutils.isophote.fitter]\n"
     ]
    },
    {
     "name": "stdout",
     "output_type": "stream",
     "text": [
      "  Error fitting Sersic profile: list index out of range\n"
     ]
    },
    {
     "name": "stderr",
     "output_type": "stream",
     "text": [
      "Processing images from HDF5:   0%|          | 63/40914 [00:17<3:40:03,  3.09it/s]/home/jupyter-jacob/.local/lib/python3.10/site-packages/numpy/core/_methods.py:198: RuntimeWarning: divide by zero encountered in scalar divide\n",
      "  ret = ret.dtype.type(ret / rcount)\n",
      "Processing images from HDF5:   3%|▎         | 1391/40914 [07:27<4:16:57,  2.56it/s]WARNING: Improper input: func input vector length N=5 must not exceed func output vector length M=4 [photutils.isophote.fitter]\n",
      "Processing images from HDF5:   3%|▎         | 1392/40914 [07:28<3:54:16,  2.81it/s]"
     ]
    },
    {
     "name": "stdout",
     "output_type": "stream",
     "text": [
      "  Error fitting Sersic profile: index 0 is out of bounds for axis 0 with size 0\n"
     ]
    },
    {
     "name": "stderr",
     "output_type": "stream",
     "text": [
      "Processing images from HDF5:   4%|▍         | 1552/40914 [08:26<3:14:27,  3.37it/s]WARNING: Improper input: func input vector length N=5 must not exceed func output vector length M=4 [photutils.isophote.fitter]\n"
     ]
    },
    {
     "name": "stdout",
     "output_type": "stream",
     "text": [
      "  Error fitting Sersic profile: list index out of range\n"
     ]
    },
    {
     "name": "stderr",
     "output_type": "stream",
     "text": [
      "Processing images from HDF5:   6%|▌         | 2478/40914 [13:31<3:56:55,  2.70it/s]WARNING: Improper input: func input vector length N=5 must not exceed func output vector length M=3 [photutils.isophote.fitter]\n"
     ]
    },
    {
     "name": "stdout",
     "output_type": "stream",
     "text": [
      "  Error fitting Sersic profile: list index out of range\n"
     ]
    },
    {
     "name": "stderr",
     "output_type": "stream",
     "text": [
      "Processing images from HDF5:   6%|▋         | 2574/40914 [13:52<3:01:06,  3.53it/s]WARNING: Improper input: func input vector length N=5 must not exceed func output vector length M=3 [photutils.isophote.fitter]\n"
     ]
    },
    {
     "name": "stdout",
     "output_type": "stream",
     "text": [
      "  Error fitting Sersic profile: list index out of range\n"
     ]
    },
    {
     "name": "stderr",
     "output_type": "stream",
     "text": [
      "Processing images from HDF5:   7%|▋         | 2833/40914 [15:04<4:20:01,  2.44it/s]WARNING: Improper input: func input vector length N=5 must not exceed func output vector length M=4 [photutils.isophote.fitter]\n"
     ]
    },
    {
     "name": "stdout",
     "output_type": "stream",
     "text": [
      "  Error fitting Sersic profile: list index out of range\n"
     ]
    },
    {
     "name": "stderr",
     "output_type": "stream",
     "text": [
      "Processing images from HDF5:   9%|▊         | 3553/40914 [18:53<4:29:07,  2.31it/s]WARNING: Improper input: func input vector length N=5 must not exceed func output vector length M=4 [photutils.isophote.fitter]\n"
     ]
    },
    {
     "name": "stdout",
     "output_type": "stream",
     "text": [
      "  Error fitting Sersic profile: list index out of range\n"
     ]
    },
    {
     "name": "stderr",
     "output_type": "stream",
     "text": [
      "Processing images from HDF5:   9%|▉         | 3803/40914 [20:12<1:58:26,  5.22it/s]WARNING: Improper input: func input vector length N=5 must not exceed func output vector length M=2 [photutils.isophote.fitter]\n"
     ]
    },
    {
     "name": "stdout",
     "output_type": "stream",
     "text": [
      "  Error fitting Sersic profile: list index out of range\n"
     ]
    },
    {
     "name": "stderr",
     "output_type": "stream",
     "text": [
      "Processing images from HDF5:  10%|█         | 4256/40914 [22:37<2:33:14,  3.99it/s]WARNING: Improper input: func input vector length N=5 must not exceed func output vector length M=4 [photutils.isophote.fitter]\n"
     ]
    },
    {
     "name": "stdout",
     "output_type": "stream",
     "text": [
      "  Error fitting Sersic profile: list index out of range\n"
     ]
    },
    {
     "name": "stderr",
     "output_type": "stream",
     "text": [
      "Processing images from HDF5:  11%|█         | 4424/40914 [23:21<2:16:46,  4.45it/s]WARNING: Improper input: func input vector length N=5 must not exceed func output vector length M=4 [photutils.isophote.fitter]\n"
     ]
    },
    {
     "name": "stdout",
     "output_type": "stream",
     "text": [
      "  Error fitting Sersic profile: list index out of range\n"
     ]
    },
    {
     "name": "stderr",
     "output_type": "stream",
     "text": [
      "Processing images from HDF5:  13%|█▎        | 5239/40914 [27:43<5:02:04,  1.97it/s]WARNING: Improper input: func input vector length N=5 must not exceed func output vector length M=3 [photutils.isophote.fitter]\n",
      "Processing images from HDF5:  14%|█▍        | 5741/40914 [29:54<1:40:24,  5.84it/s]WARNING: Improper input: func input vector length N=5 must not exceed func output vector length M=4 [photutils.isophote.fitter]\n",
      "Processing images from HDF5:  14%|█▍        | 5744/40914 [29:54<1:20:25,  7.29it/s]"
     ]
    },
    {
     "name": "stdout",
     "output_type": "stream",
     "text": [
      "  Error fitting Sersic profile: list index out of range\n"
     ]
    },
    {
     "name": "stderr",
     "output_type": "stream",
     "text": [
      "Processing images from HDF5:  14%|█▍        | 5859/40914 [30:25<1:35:59,  6.09it/s]WARNING: Improper input: func input vector length N=5 must not exceed func output vector length M=3 [photutils.isophote.fitter]\n"
     ]
    },
    {
     "name": "stdout",
     "output_type": "stream",
     "text": [
      "  Error fitting Sersic profile: list index out of range\n"
     ]
    },
    {
     "name": "stderr",
     "output_type": "stream",
     "text": [
      "Processing images from HDF5:  15%|█▍        | 6135/40914 [31:47<4:23:28,  2.20it/s]WARNING: Improper input: func input vector length N=5 must not exceed func output vector length M=4 [photutils.isophote.fitter]\n"
     ]
    },
    {
     "name": "stdout",
     "output_type": "stream",
     "text": [
      "  Error fitting Sersic profile: list index out of range\n"
     ]
    },
    {
     "name": "stderr",
     "output_type": "stream",
     "text": [
      "Processing images from HDF5:  15%|█▌        | 6234/40914 [32:22<2:57:20,  3.26it/s]"
     ]
    },
    {
     "name": "stdout",
     "output_type": "stream",
     "text": [
      "  Error fitting Sersic profile: index 0 is out of bounds for axis 0 with size 0\n"
     ]
    },
    {
     "name": "stderr",
     "output_type": "stream",
     "text": [
      "Processing images from HDF5:  15%|█▌        | 6336/40914 [32:49<2:36:29,  3.68it/s]WARNING: Improper input: func input vector length N=5 must not exceed func output vector length M=4 [photutils.isophote.fitter]\n"
     ]
    },
    {
     "name": "stdout",
     "output_type": "stream",
     "text": [
      "  Error fitting Sersic profile: list index out of range\n"
     ]
    },
    {
     "name": "stderr",
     "output_type": "stream",
     "text": [
      "Processing images from HDF5:  16%|█▌        | 6362/40914 [32:58<3:21:12,  2.86it/s]WARNING: Improper input: func input vector length N=5 must not exceed func output vector length M=4 [photutils.isophote.fitter]\n",
      "Processing images from HDF5:  16%|█▌        | 6363/40914 [32:58<2:58:10,  3.23it/s]"
     ]
    },
    {
     "name": "stdout",
     "output_type": "stream",
     "text": [
      "  Error fitting Sersic profile: index 0 is out of bounds for axis 0 with size 0\n"
     ]
    },
    {
     "name": "stderr",
     "output_type": "stream",
     "text": [
      "Processing images from HDF5:  16%|█▋        | 6727/40914 [34:40<2:22:15,  4.01it/s]WARNING: Improper input: func input vector length N=5 must not exceed func output vector length M=3 [photutils.isophote.fitter]\n",
      "Processing images from HDF5:  16%|█▋        | 6733/40914 [34:40<1:19:49,  7.14it/s]"
     ]
    },
    {
     "name": "stdout",
     "output_type": "stream",
     "text": [
      "  Error fitting Sersic profile: list index out of range\n"
     ]
    },
    {
     "name": "stderr",
     "output_type": "stream",
     "text": [
      "Processing images from HDF5:  20%|██        | 8375/40914 [41:06<1:37:30,  5.56it/s]WARNING: Improper input: func input vector length N=5 must not exceed func output vector length M=4 [photutils.isophote.fitter]\n"
     ]
    },
    {
     "name": "stdout",
     "output_type": "stream",
     "text": [
      "  Error fitting Sersic profile: list index out of range\n"
     ]
    },
    {
     "name": "stderr",
     "output_type": "stream",
     "text": [
      "Processing images from HDF5:  21%|██        | 8651/40914 [42:18<1:16:36,  7.02it/s]WARNING: Improper input: func input vector length N=5 must not exceed func output vector length M=3 [photutils.isophote.fitter]\n"
     ]
    },
    {
     "name": "stdout",
     "output_type": "stream",
     "text": [
      "  Error fitting Sersic profile: list index out of range\n"
     ]
    },
    {
     "name": "stderr",
     "output_type": "stream",
     "text": [
      "Processing images from HDF5:  21%|██        | 8672/40914 [42:22<1:58:26,  4.54it/s]WARNING: Improper input: func input vector length N=5 must not exceed func output vector length M=3 [photutils.isophote.fitter]\n"
     ]
    },
    {
     "name": "stdout",
     "output_type": "stream",
     "text": [
      "  Error fitting Sersic profile: list index out of range\n"
     ]
    },
    {
     "name": "stderr",
     "output_type": "stream",
     "text": [
      "Processing images from HDF5:  22%|██▏       | 8797/40914 [42:59<3:11:26,  2.80it/s]WARNING: Improper input: func input vector length N=5 must not exceed func output vector length M=3 [photutils.isophote.fitter]\n"
     ]
    },
    {
     "name": "stdout",
     "output_type": "stream",
     "text": [
      "  Error fitting Sersic profile: list index out of range\n"
     ]
    },
    {
     "name": "stderr",
     "output_type": "stream",
     "text": [
      "Processing images from HDF5:  22%|██▏       | 8858/40914 [43:13<1:47:39,  4.96it/s]WARNING: Improper input: func input vector length N=5 must not exceed func output vector length M=4 [photutils.isophote.fitter]\n"
     ]
    },
    {
     "name": "stdout",
     "output_type": "stream",
     "text": [
      "  Error fitting Sersic profile: list index out of range\n"
     ]
    },
    {
     "name": "stderr",
     "output_type": "stream",
     "text": [
      "Processing images from HDF5:  26%|██▌       | 10493/40914 [51:23<2:44:42,  3.08it/s]WARNING: Improper input: func input vector length N=5 must not exceed func output vector length M=4 [photutils.isophote.fitter]\n"
     ]
    },
    {
     "name": "stdout",
     "output_type": "stream",
     "text": [
      "  Error fitting Sersic profile: list index out of range\n"
     ]
    },
    {
     "name": "stderr",
     "output_type": "stream",
     "text": [
      "Processing images from HDF5:  28%|██▊       | 11315/40914 [55:27<3:20:33,  2.46it/s]WARNING: Improper input: func input vector length N=5 must not exceed func output vector length M=4 [photutils.isophote.fitter]\n"
     ]
    },
    {
     "name": "stdout",
     "output_type": "stream",
     "text": [
      "  Error fitting Sersic profile: list index out of range\n"
     ]
    },
    {
     "name": "stderr",
     "output_type": "stream",
     "text": [
      "Processing images from HDF5:  29%|██▉       | 11963/40914 [58:13<1:50:29,  4.37it/s]WARNING: Improper input: func input vector length N=5 must not exceed func output vector length M=2 [photutils.isophote.fitter]\n"
     ]
    },
    {
     "name": "stdout",
     "output_type": "stream",
     "text": [
      "  Error fitting Sersic profile: list index out of range\n"
     ]
    },
    {
     "name": "stderr",
     "output_type": "stream",
     "text": [
      "Processing images from HDF5:  33%|███▎      | 13423/40914 [1:06:25<2:31:47,  3.02it/s]WARNING: Improper input: func input vector length N=5 must not exceed func output vector length M=3 [photutils.isophote.fitter]\n"
     ]
    },
    {
     "name": "stdout",
     "output_type": "stream",
     "text": [
      "  Error fitting Sersic profile: list index out of range\n"
     ]
    },
    {
     "name": "stderr",
     "output_type": "stream",
     "text": [
      "Processing images from HDF5:  33%|███▎      | 13438/40914 [1:06:28<1:30:15,  5.07it/s]WARNING: Improper input: func input vector length N=5 must not exceed func output vector length M=3 [photutils.isophote.fitter]\n"
     ]
    },
    {
     "name": "stdout",
     "output_type": "stream",
     "text": [
      "  Error fitting Sersic profile: list index out of range\n"
     ]
    },
    {
     "name": "stderr",
     "output_type": "stream",
     "text": [
      "Processing images from HDF5:  34%|███▍      | 13843/40914 [1:08:24<1:47:42,  4.19it/s]WARNING: Improper input: func input vector length N=5 must not exceed func output vector length M=3 [photutils.isophote.fitter]\n"
     ]
    },
    {
     "name": "stdout",
     "output_type": "stream",
     "text": [
      "  Error fitting Sersic profile: list index out of range\n"
     ]
    },
    {
     "name": "stderr",
     "output_type": "stream",
     "text": [
      "Processing images from HDF5:  36%|███▌      | 14532/40914 [1:12:06<4:01:32,  1.82it/s]WARNING: Improper input: func input vector length N=5 must not exceed func output vector length M=4 [photutils.isophote.fitter]\n",
      "Processing images from HDF5:  36%|███▌      | 14534/40914 [1:12:07<2:39:34,  2.76it/s]"
     ]
    },
    {
     "name": "stdout",
     "output_type": "stream",
     "text": [
      "  Error fitting Sersic profile: list index out of range\n"
     ]
    },
    {
     "name": "stderr",
     "output_type": "stream",
     "text": [
      "Processing images from HDF5:  37%|███▋      | 15287/40914 [1:16:20<3:44:04,  1.91it/s]WARNING: Improper input: func input vector length N=5 must not exceed func output vector length M=3 [photutils.isophote.fitter]\n",
      "Processing images from HDF5:  37%|███▋      | 15289/40914 [1:16:20<2:44:35,  2.59it/s]"
     ]
    },
    {
     "name": "stdout",
     "output_type": "stream",
     "text": [
      "  Error fitting Sersic profile: list index out of range\n"
     ]
    },
    {
     "name": "stderr",
     "output_type": "stream",
     "text": [
      "Processing images from HDF5:  37%|███▋      | 15293/40914 [1:16:21<2:07:42,  3.34it/s]WARNING: Improper input: func input vector length N=5 must not exceed func output vector length M=4 [photutils.isophote.fitter]\n",
      "Processing images from HDF5:  37%|███▋      | 15296/40914 [1:16:21<1:32:19,  4.62it/s]"
     ]
    },
    {
     "name": "stdout",
     "output_type": "stream",
     "text": [
      "  Error fitting Sersic profile: list index out of range\n"
     ]
    },
    {
     "name": "stderr",
     "output_type": "stream",
     "text": [
      "Processing images from HDF5:  38%|███▊      | 15466/40914 [1:17:23<1:54:23,  3.71it/s]WARNING: Improper input: func input vector length N=5 must not exceed func output vector length M=2 [photutils.isophote.fitter]\n"
     ]
    },
    {
     "name": "stdout",
     "output_type": "stream",
     "text": [
      "  Error fitting Sersic profile: list index out of range\n"
     ]
    },
    {
     "name": "stderr",
     "output_type": "stream",
     "text": [
      "Processing images from HDF5:  38%|███▊      | 15482/40914 [1:17:27<2:31:21,  2.80it/s]WARNING: Improper input: func input vector length N=5 must not exceed func output vector length M=1 [photutils.isophote.fitter]\n",
      "Processing images from HDF5:  38%|███▊      | 15489/40914 [1:17:28<1:02:24,  6.79it/s]"
     ]
    },
    {
     "name": "stdout",
     "output_type": "stream",
     "text": [
      "  Error fitting Sersic profile: list index out of range\n"
     ]
    },
    {
     "name": "stderr",
     "output_type": "stream",
     "text": [
      "Processing images from HDF5:  40%|███▉      | 16195/40914 [1:21:05<1:12:45,  5.66it/s]WARNING: Improper input: func input vector length N=5 must not exceed func output vector length M=4 [photutils.isophote.fitter]\n"
     ]
    },
    {
     "name": "stdout",
     "output_type": "stream",
     "text": [
      "  Error fitting Sersic profile: list index out of range\n"
     ]
    },
    {
     "name": "stderr",
     "output_type": "stream",
     "text": [
      "Processing images from HDF5:  40%|███▉      | 16240/40914 [1:21:19<3:11:58,  2.14it/s]WARNING: Improper input: func input vector length N=5 must not exceed func output vector length M=4 [photutils.isophote.fitter]\n"
     ]
    },
    {
     "name": "stdout",
     "output_type": "stream",
     "text": [
      "  Error fitting Sersic profile: list index out of range\n"
     ]
    },
    {
     "name": "stderr",
     "output_type": "stream",
     "text": [
      "Processing images from HDF5:  43%|████▎     | 17453/40914 [1:25:43<2:11:57,  2.96it/s]WARNING: Improper input: func input vector length N=5 must not exceed func output vector length M=2 [photutils.isophote.fitter]\n"
     ]
    },
    {
     "name": "stdout",
     "output_type": "stream",
     "text": [
      "  Error fitting Sersic profile: list index out of range\n"
     ]
    },
    {
     "name": "stderr",
     "output_type": "stream",
     "text": [
      "Processing images from HDF5:  43%|████▎     | 17791/40914 [1:26:54<38:26, 10.03it/s]  WARNING: Improper input: func input vector length N=5 must not exceed func output vector length M=2 [photutils.isophote.fitter]\n"
     ]
    },
    {
     "name": "stdout",
     "output_type": "stream",
     "text": [
      "  Error fitting Sersic profile: list index out of range\n"
     ]
    },
    {
     "name": "stderr",
     "output_type": "stream",
     "text": [
      "Processing images from HDF5:  44%|████▍     | 18043/40914 [1:27:48<1:31:27,  4.17it/s]WARNING: Improper input: func input vector length N=5 must not exceed func output vector length M=2 [photutils.isophote.fitter]\n",
      "Processing images from HDF5:  44%|████▍     | 18117/40914 [1:28:05<2:07:21,  2.98it/s]WARNING: Improper input: func input vector length N=5 must not exceed func output vector length M=4 [photutils.isophote.fitter]\n"
     ]
    },
    {
     "name": "stdout",
     "output_type": "stream",
     "text": [
      "  Error fitting Sersic profile: list index out of range\n"
     ]
    },
    {
     "name": "stderr",
     "output_type": "stream",
     "text": [
      "Processing images from HDF5:  45%|████▍     | 18294/40914 [1:28:50<1:57:09,  3.22it/s]WARNING: Improper input: func input vector length N=5 must not exceed func output vector length M=4 [photutils.isophote.fitter]\n"
     ]
    },
    {
     "name": "stdout",
     "output_type": "stream",
     "text": [
      "  Error fitting Sersic profile: list index out of range\n"
     ]
    },
    {
     "name": "stderr",
     "output_type": "stream",
     "text": [
      "Processing images from HDF5:  47%|████▋     | 19324/40914 [1:33:42<1:20:06,  4.49it/s]WARNING: Improper input: func input vector length N=5 must not exceed func output vector length M=3 [photutils.isophote.fitter]\n"
     ]
    },
    {
     "name": "stdout",
     "output_type": "stream",
     "text": [
      "  Error fitting Sersic profile: list index out of range\n"
     ]
    },
    {
     "name": "stderr",
     "output_type": "stream",
     "text": [
      "Processing images from HDF5:  47%|████▋     | 19333/40914 [1:33:44<1:22:22,  4.37it/s]WARNING: Improper input: func input vector length N=5 must not exceed func output vector length M=2 [photutils.isophote.fitter]\n"
     ]
    },
    {
     "name": "stdout",
     "output_type": "stream",
     "text": [
      "  Error fitting Sersic profile: list index out of range\n"
     ]
    },
    {
     "name": "stderr",
     "output_type": "stream",
     "text": [
      "Processing images from HDF5:  48%|████▊     | 19617/40914 [1:34:35<1:11:45,  4.95it/s]WARNING: Improper input: func input vector length N=5 must not exceed func output vector length M=4 [photutils.isophote.fitter]\n"
     ]
    },
    {
     "name": "stdout",
     "output_type": "stream",
     "text": [
      "  Error fitting Sersic profile: list index out of range\n"
     ]
    },
    {
     "name": "stderr",
     "output_type": "stream",
     "text": [
      "Processing images from HDF5:  49%|████▉     | 20204/40914 [1:36:19<24:43, 13.96it/s]  "
     ]
    },
    {
     "name": "stdout",
     "output_type": "stream",
     "text": [
      "  Error fitting Sersic profile: index 0 is out of bounds for axis 0 with size 0\n"
     ]
    },
    {
     "name": "stderr",
     "output_type": "stream",
     "text": [
      "Processing images from HDF5:  55%|█████▍    | 22471/40914 [1:45:44<1:30:40,  3.39it/s]WARNING: Improper input: func input vector length N=5 must not exceed func output vector length M=4 [photutils.isophote.fitter]\n"
     ]
    },
    {
     "name": "stdout",
     "output_type": "stream",
     "text": [
      "  Error fitting Sersic profile: list index out of range\n"
     ]
    },
    {
     "name": "stderr",
     "output_type": "stream",
     "text": [
      "Processing images from HDF5:  56%|█████▌    | 22960/40914 [1:48:31<1:20:45,  3.71it/s]WARNING: Improper input: func input vector length N=5 must not exceed func output vector length M=4 [photutils.isophote.fitter]\n"
     ]
    },
    {
     "name": "stdout",
     "output_type": "stream",
     "text": [
      "  Error fitting Sersic profile: list index out of range\n"
     ]
    },
    {
     "name": "stderr",
     "output_type": "stream",
     "text": [
      "Processing images from HDF5:  56%|█████▋    | 23099/40914 [1:49:09<1:00:12,  4.93it/s]WARNING: Improper input: func input vector length N=5 must not exceed func output vector length M=1 [photutils.isophote.fitter]\n"
     ]
    },
    {
     "name": "stdout",
     "output_type": "stream",
     "text": [
      "  Error fitting Sersic profile: list index out of range\n"
     ]
    },
    {
     "name": "stderr",
     "output_type": "stream",
     "text": [
      "Processing images from HDF5:  58%|█████▊    | 23728/40914 [1:51:38<2:07:57,  2.24it/s]WARNING: Improper input: func input vector length N=5 must not exceed func output vector length M=4 [photutils.isophote.fitter]\n"
     ]
    },
    {
     "name": "stdout",
     "output_type": "stream",
     "text": [
      "  Error fitting Sersic profile: list index out of range\n"
     ]
    },
    {
     "name": "stderr",
     "output_type": "stream",
     "text": [
      "Processing images from HDF5:  59%|█████▉    | 24299/40914 [1:54:22<1:23:34,  3.31it/s]WARNING: Improper input: func input vector length N=5 must not exceed func output vector length M=4 [photutils.isophote.fitter]\n",
      "Processing images from HDF5:  59%|█████▉    | 24303/40914 [1:54:22<49:53,  5.55it/s]  "
     ]
    },
    {
     "name": "stdout",
     "output_type": "stream",
     "text": [
      "  Error fitting Sersic profile: list index out of range\n"
     ]
    },
    {
     "name": "stderr",
     "output_type": "stream",
     "text": [
      "Processing images from HDF5:  60%|█████▉    | 24411/40914 [1:54:54<1:22:31,  3.33it/s]WARNING: Improper input: func input vector length N=5 must not exceed func output vector length M=4 [photutils.isophote.fitter]\n",
      "Processing images from HDF5:  60%|█████▉    | 24493/40914 [1:55:16<1:40:38,  2.72it/s]WARNING: Improper input: func input vector length N=5 must not exceed func output vector length M=4 [photutils.isophote.fitter]\n"
     ]
    },
    {
     "name": "stdout",
     "output_type": "stream",
     "text": [
      "  Error fitting Sersic profile: list index out of range\n"
     ]
    },
    {
     "name": "stderr",
     "output_type": "stream",
     "text": [
      "Processing images from HDF5:  63%|██████▎   | 25784/40914 [2:00:37<59:22,  4.25it/s]  WARNING: Improper input: func input vector length N=5 must not exceed func output vector length M=4 [photutils.isophote.fitter]\n",
      "Processing images from HDF5:  63%|██████▎   | 25790/40914 [2:00:37<33:13,  7.59it/s]"
     ]
    },
    {
     "name": "stdout",
     "output_type": "stream",
     "text": [
      "  Error fitting Sersic profile: list index out of range\n"
     ]
    },
    {
     "name": "stderr",
     "output_type": "stream",
     "text": [
      "Processing images from HDF5:  63%|██████▎   | 25951/40914 [2:01:05<32:14,  7.74it/s]  WARNING: Improper input: func input vector length N=5 must not exceed func output vector length M=2 [photutils.isophote.fitter]\n",
      "Processing images from HDF5:  63%|██████▎   | 25961/40914 [2:01:05<15:05, 16.52it/s]"
     ]
    },
    {
     "name": "stdout",
     "output_type": "stream",
     "text": [
      "  Error fitting Sersic profile: list index out of range\n"
     ]
    },
    {
     "name": "stderr",
     "output_type": "stream",
     "text": [
      "Processing images from HDF5:  65%|██████▌   | 26610/40914 [2:02:52<48:42,  4.89it/s]  WARNING: Improper input: func input vector length N=5 must not exceed func output vector length M=1 [photutils.isophote.fitter]\n"
     ]
    },
    {
     "name": "stdout",
     "output_type": "stream",
     "text": [
      "  Error fitting Sersic profile: list index out of range\n"
     ]
    },
    {
     "name": "stderr",
     "output_type": "stream",
     "text": [
      "Processing images from HDF5:  66%|██████▌   | 26835/40914 [2:03:37<1:25:57,  2.73it/s]WARNING: Improper input: func input vector length N=5 must not exceed func output vector length M=4 [photutils.isophote.fitter]\n"
     ]
    },
    {
     "name": "stdout",
     "output_type": "stream",
     "text": [
      "  Error fitting Sersic profile: list index out of range\n"
     ]
    },
    {
     "name": "stderr",
     "output_type": "stream",
     "text": [
      "Processing images from HDF5:  66%|██████▌   | 26942/40914 [2:03:59<51:40,  4.51it/s]  WARNING: Improper input: func input vector length N=5 must not exceed func output vector length M=3 [photutils.isophote.fitter]\n"
     ]
    },
    {
     "name": "stdout",
     "output_type": "stream",
     "text": [
      "  Error fitting Sersic profile: list index out of range\n"
     ]
    },
    {
     "name": "stderr",
     "output_type": "stream",
     "text": [
      "Processing images from HDF5:  67%|██████▋   | 27303/40914 [2:05:36<1:20:02,  2.83it/s]WARNING: Improper input: func input vector length N=5 must not exceed func output vector length M=4 [photutils.isophote.fitter]\n",
      "Processing images from HDF5:  67%|██████▋   | 27305/40914 [2:05:36<1:09:04,  3.28it/s]"
     ]
    },
    {
     "name": "stdout",
     "output_type": "stream",
     "text": [
      "  Error fitting Sersic profile: index 0 is out of bounds for axis 0 with size 0\n"
     ]
    },
    {
     "name": "stderr",
     "output_type": "stream",
     "text": [
      "Processing images from HDF5:  67%|██████▋   | 27607/40914 [2:06:47<35:03,  6.32it/s]  WARNING: Improper input: func input vector length N=5 must not exceed func output vector length M=3 [photutils.isophote.fitter]\n"
     ]
    },
    {
     "name": "stdout",
     "output_type": "stream",
     "text": [
      "  Error fitting Sersic profile: list index out of range\n"
     ]
    },
    {
     "name": "stderr",
     "output_type": "stream",
     "text": [
      "Processing images from HDF5:  71%|███████   | 28988/40914 [2:12:53<47:37,  4.17it/s]  WARNING: Improper input: func input vector length N=5 must not exceed func output vector length M=1 [photutils.isophote.fitter]\n"
     ]
    },
    {
     "name": "stdout",
     "output_type": "stream",
     "text": [
      "  Error fitting Sersic profile: list index out of range\n"
     ]
    },
    {
     "name": "stderr",
     "output_type": "stream",
     "text": [
      "Processing images from HDF5:  71%|███████   | 28997/40914 [2:12:53<19:16, 10.31it/s]WARNING: Improper input: func input vector length N=5 must not exceed func output vector length M=4 [photutils.isophote.fitter]\n"
     ]
    },
    {
     "name": "stdout",
     "output_type": "stream",
     "text": [
      "  Error fitting Sersic profile: list index out of range\n"
     ]
    },
    {
     "name": "stderr",
     "output_type": "stream",
     "text": [
      "Processing images from HDF5:  72%|███████▏  | 29462/40914 [2:14:46<39:41,  4.81it/s]  WARNING: Improper input: func input vector length N=5 must not exceed func output vector length M=4 [photutils.isophote.fitter]\n"
     ]
    },
    {
     "name": "stdout",
     "output_type": "stream",
     "text": [
      "  Error fitting Sersic profile: list index out of range\n"
     ]
    },
    {
     "name": "stderr",
     "output_type": "stream",
     "text": [
      "Processing images from HDF5:  74%|███████▎  | 30086/40914 [2:17:17<1:03:05,  2.86it/s]WARNING: Improper input: func input vector length N=5 must not exceed func output vector length M=4 [photutils.isophote.fitter]\n",
      "Processing images from HDF5:  74%|███████▎  | 30089/40914 [2:17:17<38:35,  4.67it/s]  "
     ]
    },
    {
     "name": "stdout",
     "output_type": "stream",
     "text": [
      "  Error fitting Sersic profile: list index out of range\n"
     ]
    },
    {
     "name": "stderr",
     "output_type": "stream",
     "text": [
      "Processing images from HDF5:  74%|███████▍  | 30194/40914 [2:17:45<38:12,  4.68it/s]  WARNING: Improper input: func input vector length N=5 must not exceed func output vector length M=3 [photutils.isophote.fitter]\n",
      "Processing images from HDF5:  74%|███████▍  | 30198/40914 [2:17:45<26:34,  6.72it/s]"
     ]
    },
    {
     "name": "stdout",
     "output_type": "stream",
     "text": [
      "  Error fitting Sersic profile: list index out of range\n"
     ]
    },
    {
     "name": "stderr",
     "output_type": "stream",
     "text": [
      "Processing images from HDF5:  75%|███████▍  | 30632/40914 [2:19:45<54:58,  3.12it/s]  WARNING: Improper input: func input vector length N=5 must not exceed func output vector length M=3 [photutils.isophote.fitter]\n"
     ]
    },
    {
     "name": "stdout",
     "output_type": "stream",
     "text": [
      "  Error fitting Sersic profile: list index out of range\n"
     ]
    },
    {
     "name": "stderr",
     "output_type": "stream",
     "text": [
      "Processing images from HDF5:  76%|███████▋  | 31200/40914 [2:22:06<44:43,  3.62it/s]  WARNING: Improper input: func input vector length N=5 must not exceed func output vector length M=4 [photutils.isophote.fitter]\n"
     ]
    },
    {
     "name": "stdout",
     "output_type": "stream",
     "text": [
      "  Error fitting Sersic profile: list index out of range\n"
     ]
    },
    {
     "name": "stderr",
     "output_type": "stream",
     "text": [
      "Processing images from HDF5:  78%|███████▊  | 31924/40914 [2:25:26<1:05:22,  2.29it/s]WARNING: Improper input: func input vector length N=5 must not exceed func output vector length M=4 [photutils.isophote.fitter]\n"
     ]
    },
    {
     "name": "stdout",
     "output_type": "stream",
     "text": [
      "  Error fitting Sersic profile: list index out of range\n"
     ]
    },
    {
     "name": "stderr",
     "output_type": "stream",
     "text": [
      "Processing images from HDF5:  80%|███████▉  | 32540/40914 [2:27:57<25:08,  5.55it/s]  WARNING: Improper input: func input vector length N=5 must not exceed func output vector length M=3 [photutils.isophote.fitter]\n"
     ]
    },
    {
     "name": "stdout",
     "output_type": "stream",
     "text": [
      "  Error fitting Sersic profile: list index out of range\n"
     ]
    },
    {
     "name": "stderr",
     "output_type": "stream",
     "text": [
      "Processing images from HDF5:  82%|████████▏ | 33730/40914 [2:31:25<16:25,  7.29it/s]  WARNING: Improper input: func input vector length N=5 must not exceed func output vector length M=4 [photutils.isophote.fitter]\n"
     ]
    },
    {
     "name": "stdout",
     "output_type": "stream",
     "text": [
      "  Error fitting Sersic profile: list index out of range\n"
     ]
    },
    {
     "name": "stderr",
     "output_type": "stream",
     "text": [
      "Processing images from HDF5:  83%|████████▎ | 33917/40914 [2:31:52<43:16,  2.69it/s]WARNING: Improper input: func input vector length N=5 must not exceed func output vector length M=4 [photutils.isophote.fitter]\n"
     ]
    },
    {
     "name": "stdout",
     "output_type": "stream",
     "text": [
      "  Error fitting Sersic profile: list index out of range\n"
     ]
    },
    {
     "name": "stderr",
     "output_type": "stream",
     "text": [
      "Processing images from HDF5:  85%|████████▌ | 34847/40914 [2:34:36<20:04,  5.04it/s]WARNING: Improper input: func input vector length N=5 must not exceed func output vector length M=4 [photutils.isophote.fitter]\n"
     ]
    },
    {
     "name": "stdout",
     "output_type": "stream",
     "text": [
      "  Error fitting Sersic profile: list index out of range\n"
     ]
    },
    {
     "name": "stderr",
     "output_type": "stream",
     "text": [
      "Processing images from HDF5:  86%|████████▋ | 35323/40914 [2:36:02<07:41, 12.12it/s]"
     ]
    },
    {
     "name": "stdout",
     "output_type": "stream",
     "text": [
      "  Error fitting Sersic profile: index 0 is out of bounds for axis 0 with size 0\n"
     ]
    },
    {
     "name": "stderr",
     "output_type": "stream",
     "text": [
      "Processing images from HDF5:  87%|████████▋ | 35752/40914 [2:37:49<10:22,  8.30it/s]WARNING: Improper input: func input vector length N=5 must not exceed func output vector length M=4 [photutils.isophote.fitter]\n"
     ]
    },
    {
     "name": "stdout",
     "output_type": "stream",
     "text": [
      "  Error fitting Sersic profile: list index out of range\n"
     ]
    },
    {
     "name": "stderr",
     "output_type": "stream",
     "text": [
      "Processing images from HDF5:  88%|████████▊ | 36001/40914 [2:38:34<13:15,  6.18it/s]WARNING: Improper input: func input vector length N=5 must not exceed func output vector length M=4 [photutils.isophote.fitter]\n",
      "Processing images from HDF5:  88%|████████▊ | 36003/40914 [2:38:34<12:15,  6.68it/s]"
     ]
    },
    {
     "name": "stdout",
     "output_type": "stream",
     "text": [
      "  Error fitting Sersic profile: list index out of range\n"
     ]
    },
    {
     "name": "stderr",
     "output_type": "stream",
     "text": [
      "Processing images from HDF5:  91%|█████████ | 37308/40914 [2:44:40<13:58,  4.30it/s]WARNING: Improper input: func input vector length N=5 must not exceed func output vector length M=2 [photutils.isophote.fitter]\n"
     ]
    },
    {
     "name": "stdout",
     "output_type": "stream",
     "text": [
      "  Error fitting Sersic profile: list index out of range\n"
     ]
    },
    {
     "name": "stderr",
     "output_type": "stream",
     "text": [
      "Processing images from HDF5:  92%|█████████▏| 37442/40914 [2:45:12<11:22,  5.09it/s]WARNING: Improper input: func input vector length N=5 must not exceed func output vector length M=4 [photutils.isophote.fitter]\n",
      "Processing images from HDF5:  92%|█████████▏| 37443/40914 [2:45:13<18:17,  3.16it/s]"
     ]
    },
    {
     "name": "stdout",
     "output_type": "stream",
     "text": [
      "  Error fitting Sersic profile: index 0 is out of bounds for axis 0 with size 0\n"
     ]
    },
    {
     "name": "stderr",
     "output_type": "stream",
     "text": [
      "Processing images from HDF5:  93%|█████████▎| 38150/40914 [2:48:55<10:26,  4.41it/s]WARNING: Improper input: func input vector length N=5 must not exceed func output vector length M=4 [photutils.isophote.fitter]\n"
     ]
    },
    {
     "name": "stdout",
     "output_type": "stream",
     "text": [
      "  Error fitting Sersic profile: list index out of range\n"
     ]
    },
    {
     "name": "stderr",
     "output_type": "stream",
     "text": [
      "Processing images from HDF5:  93%|█████████▎| 38156/40914 [2:48:56<12:01,  3.82it/s]WARNING: Improper input: func input vector length N=5 must not exceed func output vector length M=4 [photutils.isophote.fitter]\n"
     ]
    },
    {
     "name": "stdout",
     "output_type": "stream",
     "text": [
      "  Error fitting Sersic profile: list index out of range\n"
     ]
    },
    {
     "name": "stderr",
     "output_type": "stream",
     "text": [
      "Processing images from HDF5:  94%|█████████▍| 38417/40914 [2:50:11<10:24,  4.00it/s]WARNING: Improper input: func input vector length N=5 must not exceed func output vector length M=4 [photutils.isophote.fitter]\n"
     ]
    },
    {
     "name": "stdout",
     "output_type": "stream",
     "text": [
      "  Error fitting Sersic profile: list index out of range\n"
     ]
    },
    {
     "name": "stderr",
     "output_type": "stream",
     "text": [
      "Processing images from HDF5:  97%|█████████▋| 39807/40914 [2:56:27<04:04,  4.52it/s]WARNING: Improper input: func input vector length N=5 must not exceed func output vector length M=3 [photutils.isophote.fitter]\n"
     ]
    },
    {
     "name": "stdout",
     "output_type": "stream",
     "text": [
      "  Error fitting Sersic profile: list index out of range\n"
     ]
    },
    {
     "name": "stderr",
     "output_type": "stream",
     "text": [
      "Processing images from HDF5:  98%|█████████▊| 39893/40914 [2:56:56<04:08,  4.10it/s]WARNING: Improper input: func input vector length N=5 must not exceed func output vector length M=4 [photutils.isophote.fitter]\n"
     ]
    },
    {
     "name": "stdout",
     "output_type": "stream",
     "text": [
      "  Error fitting Sersic profile: list index out of range\n"
     ]
    },
    {
     "name": "stderr",
     "output_type": "stream",
     "text": [
      "Processing images from HDF5:  98%|█████████▊| 40003/40914 [2:57:33<07:22,  2.06it/s]WARNING: Improper input: func input vector length N=5 must not exceed func output vector length M=3 [photutils.isophote.fitter]\n"
     ]
    },
    {
     "name": "stdout",
     "output_type": "stream",
     "text": [
      "  Error fitting Sersic profile: list index out of range\n"
     ]
    },
    {
     "name": "stderr",
     "output_type": "stream",
     "text": [
      "Processing images from HDF5: 100%|██████████| 40914/40914 [3:02:00<00:00,  3.75it/s]\n"
     ]
    },
    {
     "name": "stdout",
     "output_type": "stream",
     "text": [
      "Results saved to ./AndrewMetrics.csv\n"
     ]
    }
   ],
   "source": [
    "import os\n",
    "import numpy as np\n",
    "import pandas as pd  # For saving results as a .csv file\n",
    "import sep\n",
    "import h5py\n",
    "import scipy.ndimage as ndimage\n",
    "from photutils.isophote import Ellipse, EllipseGeometry\n",
    "from tqdm import tqdm\n",
    "\n",
    "# Function to analyze a single image with SEP and return the metrics\n",
    "def analyze_image_with_sep(image, apply_smoothing=True, sigma=1.5, noise_threshold=0.50):\n",
    "    result = {}\n",
    "    \n",
    "     if image.ndim == 3:\n",
    "        image = image[0]  # Use the first channel\n",
    "\n",
    "    if apply_smoothing:\n",
    "        image = ndimage.gaussian_filter(image, sigma=sigma)\n",
    "\n",
    "    bkg = sep.Background(image)\n",
    "    image_sub = image - bkg\n",
    "\n",
    "    if np.isnan(image_sub).all() or image_sub.size == 0:\n",
    "        return None\n",
    "\n",
    "    mean_snr = np.mean(image_sub / bkg.globalrms)\n",
    "    if np.isnan(mean_snr) or mean_snr < noise_threshold:\n",
    "        return None\n",
    "\n",
    "    objects = sep.extract(image_sub, 1.5, err=bkg.globalrms)\n",
    "    if len(objects) == 0:\n",
    "        return None\n",
    "\n",
    "     \n",
    "    obj = objects[0]\n",
    "    x = obj['x']\n",
    "    y = obj['y']\n",
    "    semi_major_axis = obj['a']\n",
    "    semi_minor_axis = obj['b']\n",
    "    orientation_angle = obj['theta']\n",
    "    isophotal_area = obj['npix']\n",
    "    ellipticity = 1 - (semi_minor_axis / semi_major_axis)\n",
    "\n",
    "    result['Semi-major Axis'] = semi_major_axis\n",
    "    result['Semi-minor Axis'] = semi_minor_axis\n",
    "    result['Ellipticity'] = ellipticity\n",
    "    result['Orientation Angle'] = orientation_angle\n",
    "    result['Isophotal Area'] = isophotal_area\n",
    "\n",
    "    if semi_major_axis > 0 and 0 <= ellipticity <= 1:\n",
    "        try:\n",
    "            geometry = EllipseGeometry(x0=x, y0=y, sma=semi_major_axis, eps=ellipticity, pa=orientation_angle)\n",
    "            ellipse = Ellipse(image_sub, geometry)\n",
    "            isophote_list = ellipse.fit_image()\n",
    "            \n",
    "            # Estimate Sersic index using the isophote data\n",
    "            sersic_n = np.log(2) / np.log((1 + ellipticity) / (1 - ellipticity))\n",
    "            result['Sersic Index'] = sersic_n\n",
    "        except Exception as e:\n",
    "            print(f\"  Error fitting Sersic profile: {e}\")\n",
    "            result['Sersic Index'] = np.nan\n",
    "    \n",
    "    return result\n",
    "\n",
    "# Path to the HDF5 file\n",
    "hdf5_file_path = './ddpm_5x64x64_testing.hdf5'\n",
    "\n",
    "# Open the HDF5 file\n",
    "with h5py.File(hdf5_file_path, 'r') as f:\n",
    "    # key in HDF5 where images are stored\n",
    "    images_dataset = f['image']\n",
    "    \n",
    "    # List to store results\n",
    "    results = []\n",
    "\n",
    "    # Process and analyze each image\n",
    "    with tqdm(total=images_dataset.shape[0], desc=\"Processing images from HDF5\") as pbar:\n",
    "        for i in range(images_dataset.shape[0]):\n",
    "            image = images_dataset[i]\n",
    "            metrics = analyze_image_with_sep(image)\n",
    "            if metrics:\n",
    "                # Add a reference to the image \n",
    "                metrics['Image Index'] = i\n",
    "                results.append(metrics)\n",
    "\n",
    "            pbar.update(1)\n",
    "\n",
    "# Convert the results list to a DataFrame\n",
    "results_df = pd.DataFrame(results)\n",
    "\n",
    "# Path to save the .csv file\n",
    "csv_path = './AndrewMetrics.csv'\n",
    "\n",
    "# Ensure the directory exists; if not, create it\n",
    "os.makedirs(os.path.dirname(csv_path), exist_ok=True)\n",
    "\n",
    "# Save the DataFrame to a .csv file\n",
    "results_df.to_csv(csv_path, index=False)\n",
    "\n",
    "print(f\"Results saved to {csv_path}\")\n"
   ]
  },
  {
   "cell_type": "code",
   "execution_count": null,
   "id": "8e2306e4-977a-4eac-bd1b-f66ab041d9bb",
   "metadata": {},
   "outputs": [],
   "source": []
  }
 ],
 "metadata": {
  "kernelspec": {
   "display_name": "Python 3 (ipykernel)",
   "language": "python",
   "name": "python3"
  },
  "language_info": {
   "codemirror_mode": {
    "name": "ipython",
    "version": 3
   },
   "file_extension": ".py",
   "mimetype": "text/x-python",
   "name": "python",
   "nbconvert_exporter": "python",
   "pygments_lexer": "ipython3",
   "version": "3.10.10"
  }
 },
 "nbformat": 4,
 "nbformat_minor": 5
}
